{
  "nbformat": 4,
  "nbformat_minor": 0,
  "metadata": {
    "colab": {
      "name": "Лабораторная работа №1.ipynb",
      "provenance": [],
      "collapsed_sections": [],
      "authorship_tag": "ABX9TyPcePY47kQihYfDq+FQTPjg",
      "include_colab_link": true
    },
    "kernelspec": {
      "name": "python3",
      "display_name": "Python 3"
    },
    "language_info": {
      "name": "python"
    }
  },
  "cells": [
    {
      "cell_type": "markdown",
      "metadata": {
        "id": "view-in-github",
        "colab_type": "text"
      },
      "source": [
        "<a href=\"https://colab.research.google.com/github/NastyaShanova/My_First_Test_Repo/blob/main/%D0%9B%D0%B0%D0%B1%D0%BE%D1%80%D0%B0%D1%82%D0%BE%D1%80%D0%BD%D0%B0%D1%8F_%D1%80%D0%B0%D0%B1%D0%BE%D1%82%D0%B0_%E2%84%961.ipynb\" target=\"_parent\"><img src=\"https://colab.research.google.com/assets/colab-badge.svg\" alt=\"Open In Colab\"/></a>"
      ]
    },
    {
      "cell_type": "markdown",
      "source": [
        "# Пример исползования MarkDawn\n",
        "Нужно сделать:\n",
        "1. Список\n",
        "2. Рисунок\n",
        "3. Таблицу\n",
        "4. Ссылку\n",
        "\n",
        "![it works](https://drive.google.com/uc?id=1JY5VbpNKjQyqkVkc3tkKfJz5P_MQpVEy)\n",
        "\n",
        "First column name  | Second column name \n",
        "-------------------|------------------\n",
        "Row 1, Col 1       | Row 1, Col 2 \n",
        "Row 2, Col 1       | Row 2, Col 2 \n",
        "\n",
        "[Markdown Syntax](https://www.jetbrains.com/help/hub/Markdown-Syntax.html#quick-notes-markdown-images)\n",
        "\n"
      ],
      "metadata": {
        "id": "Y0hyAVCmrFyn"
      }
    },
    {
      "cell_type": "code",
      "source": [
        "\n"
      ],
      "metadata": {
        "id": "_aE8uUI6rL7m"
      },
      "execution_count": null,
      "outputs": []
    }
  ]
}